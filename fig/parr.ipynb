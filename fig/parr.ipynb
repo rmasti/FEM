{
 "cells": [
  {
   "cell_type": "code",
   "execution_count": 1,
   "metadata": {
    "collapsed": true
   },
   "outputs": [],
   "source": [
    "import numpy as np\n",
    "import matplotlib.pyplot as plt\n",
    "import math\n",
    "plt.style.use('flemch.mplstyle')"
   ]
  },
  {
   "cell_type": "code",
   "execution_count": 2,
   "metadata": {},
   "outputs": [
    {
     "ename": "FileNotFoundError",
     "evalue": "[Errno 2] No such file or directory: '../parr/output4eq/xcLg-0.txt'",
     "output_type": "error",
     "traceback": [
      "\u001b[0;31m---------------------------------------------------------------------------\u001b[0m",
      "\u001b[0;31mFileNotFoundError\u001b[0m                         Traceback (most recent call last)",
      "\u001b[0;32m<ipython-input-2-2add681f709a>\u001b[0m in \u001b[0;36m<module>\u001b[0;34m()\u001b[0m\n\u001b[0;32m----> 1\u001b[0;31m \u001b[0mxcLg0\u001b[0m \u001b[0;34m=\u001b[0m \u001b[0mnp\u001b[0m\u001b[0;34m.\u001b[0m\u001b[0mloadtxt\u001b[0m\u001b[0;34m(\u001b[0m\u001b[0;34m\"../parr/output4eq/xcLg-0.txt\"\u001b[0m\u001b[0;34m)\u001b[0m\u001b[0;34m\u001b[0m\u001b[0m\n\u001b[0m\u001b[1;32m      2\u001b[0m \u001b[0mycLg0\u001b[0m \u001b[0;34m=\u001b[0m \u001b[0mnp\u001b[0m\u001b[0;34m.\u001b[0m\u001b[0mloadtxt\u001b[0m\u001b[0;34m(\u001b[0m\u001b[0;34m\"../parr/output4eq/ycLg-0.txt\"\u001b[0m\u001b[0;34m)\u001b[0m\u001b[0;34m\u001b[0m\u001b[0m\n\u001b[1;32m      3\u001b[0m \u001b[0mxcLg1\u001b[0m \u001b[0;34m=\u001b[0m \u001b[0mnp\u001b[0m\u001b[0;34m.\u001b[0m\u001b[0mloadtxt\u001b[0m\u001b[0;34m(\u001b[0m\u001b[0;34m\"../parr/output4eq/xcLg-1.txt\"\u001b[0m\u001b[0;34m)\u001b[0m\u001b[0;34m\u001b[0m\u001b[0m\n\u001b[1;32m      4\u001b[0m \u001b[0mycLg1\u001b[0m \u001b[0;34m=\u001b[0m \u001b[0mnp\u001b[0m\u001b[0;34m.\u001b[0m\u001b[0mloadtxt\u001b[0m\u001b[0;34m(\u001b[0m\u001b[0;34m\"../parr/output4eq/ycLg-1.txt\"\u001b[0m\u001b[0;34m)\u001b[0m\u001b[0;34m\u001b[0m\u001b[0m\n\u001b[1;32m      5\u001b[0m \u001b[0mxcLg2\u001b[0m \u001b[0;34m=\u001b[0m \u001b[0mnp\u001b[0m\u001b[0;34m.\u001b[0m\u001b[0mloadtxt\u001b[0m\u001b[0;34m(\u001b[0m\u001b[0;34m\"../parr/output4eq/xcLg-2.txt\"\u001b[0m\u001b[0;34m)\u001b[0m\u001b[0;34m\u001b[0m\u001b[0m\n",
      "\u001b[0;32m~/anaconda3/lib/python3.6/site-packages/numpy/lib/npyio.py\u001b[0m in \u001b[0;36mloadtxt\u001b[0;34m(fname, dtype, comments, delimiter, converters, skiprows, usecols, unpack, ndmin)\u001b[0m\n\u001b[1;32m    896\u001b[0m                 \u001b[0mfh\u001b[0m \u001b[0;34m=\u001b[0m \u001b[0miter\u001b[0m\u001b[0;34m(\u001b[0m\u001b[0mopen\u001b[0m\u001b[0;34m(\u001b[0m\u001b[0mfname\u001b[0m\u001b[0;34m,\u001b[0m \u001b[0;34m'U'\u001b[0m\u001b[0;34m)\u001b[0m\u001b[0;34m)\u001b[0m\u001b[0;34m\u001b[0m\u001b[0m\n\u001b[1;32m    897\u001b[0m             \u001b[0;32melse\u001b[0m\u001b[0;34m:\u001b[0m\u001b[0;34m\u001b[0m\u001b[0m\n\u001b[0;32m--> 898\u001b[0;31m                 \u001b[0mfh\u001b[0m \u001b[0;34m=\u001b[0m \u001b[0miter\u001b[0m\u001b[0;34m(\u001b[0m\u001b[0mopen\u001b[0m\u001b[0;34m(\u001b[0m\u001b[0mfname\u001b[0m\u001b[0;34m)\u001b[0m\u001b[0;34m)\u001b[0m\u001b[0;34m\u001b[0m\u001b[0m\n\u001b[0m\u001b[1;32m    899\u001b[0m         \u001b[0;32melse\u001b[0m\u001b[0;34m:\u001b[0m\u001b[0;34m\u001b[0m\u001b[0m\n\u001b[1;32m    900\u001b[0m             \u001b[0mfh\u001b[0m \u001b[0;34m=\u001b[0m \u001b[0miter\u001b[0m\u001b[0;34m(\u001b[0m\u001b[0mfname\u001b[0m\u001b[0;34m)\u001b[0m\u001b[0;34m\u001b[0m\u001b[0m\n",
      "\u001b[0;31mFileNotFoundError\u001b[0m: [Errno 2] No such file or directory: '../parr/output4eq/xcLg-0.txt'"
     ]
    }
   ],
   "source": [
    "xcLg0 = np.loadtxt(\"../parr/output4eq/xcLg-0.txt\")\n",
    "ycLg0 = np.loadtxt(\"../parr/output4eq/ycLg-0.txt\")\n",
    "xcLg1 = np.loadtxt(\"../parr/output4eq/xcLg-1.txt\")\n",
    "ycLg1 = np.loadtxt(\"../parr/output4eq/ycLg-1.txt\")\n",
    "xcLg2 = np.loadtxt(\"../parr/output4eq/xcLg-2.txt\")\n",
    "ycLg2 = np.loadtxt(\"../parr/output4eq/ycLg-2.txt\")\n",
    "xcLg3 = np.loadtxt(\"../parr/output4eq/xcLg-3.txt\")\n",
    "ycLg3 = np.loadtxt(\"../parr/output4eq/ycLg-3.txt\")\n",
    "\n",
    "xn = np.loadtxt(\"../parr/output4eq/xn-0.txt\")\n",
    "yn = np.loadtxt(\"../parr/output4eq/yn-0.txt\")\n",
    "\n",
    "xc = np.loadtxt(\"../parr/output4eq/xc-0.txt\")\n",
    "yc = np.loadtxt(\"../parr/output4eq/yc-0.txt\")\n",
    "\n"
   ]
  },
  {
   "cell_type": "code",
   "execution_count": null,
   "metadata": {},
   "outputs": [],
   "source": [
    "fig, ax = plt.subplots(figsize=(10,5))\n",
    "\n",
    "ax.plot(xcLg0[3:-3,3:-3], ycLg0[3:-3, 3:-3], \n",
    "        linestyle=\"\", marker=\"*\", color=\"C0\")\n",
    "ax.plot(xcLg1[3:-3,3:-3], ycLg1[3:-3, 3:-3], \n",
    "        linestyle=\"\", marker=\"*\", color=\"C1\")\n",
    "ax.plot(xcLg2[3:-3,3:-3], ycLg2[3:-3, 3:-3], \n",
    "        linestyle=\"\", marker=\"*\", color=\"C2\")\n",
    "ax.plot(xcLg3[3:-3,3:-3], ycLg3[3:-3, 3:-3], \n",
    "        linestyle=\"\", marker=\"*\", color=\"C3\")\n",
    "\n",
    "ax.plot(xn, yn, linestyle=\"-\", color=\"C4\")\n",
    "ax.plot(np.transpose(xn), np.transpose(yn),\n",
    "        linestyle=\"-\", color=\"C4\")\n",
    "\n",
    "ax.set_xlabel(\"x\")\n",
    "ax.set_ylabel(\"y\")\n",
    "plt.tight_layout()\n",
    "plt.savefig(\"16x10mesh.pdf\")\n",
    "plt.show()"
   ]
  },
  {
   "cell_type": "code",
   "execution_count": null,
   "metadata": {},
   "outputs": [],
   "source": [
    "fig, ax=plt.subplots(figsize=(10,5))\n",
    "\n",
    "xc = np.loadtxt(\"../parr/output/xc-0.txt\")\n",
    "yc = np.loadtxt(\"../parr/output/yc-0.txt\")\n",
    "rho = np.loadtxt(\"../parr/output/U_rho-1000.txt\")\n",
    "\n",
    "ax.pcolor(xc, yc, rho)\n",
    "\n",
    "ax.set_xlabel(\"x\")\n",
    "ax.set_ylabel(\"y\")\n",
    "plt.tight_layout()\n",
    "plt.savefig(\"360x300parr.png\")\n",
    "\n",
    "\n",
    "plt.show()"
   ]
  },
  {
   "cell_type": "code",
   "execution_count": null,
   "metadata": {},
   "outputs": [],
   "source": [
    "fig, ax=plt.subplots(figsize=(5.0,5))\n",
    "\n",
    "xc = np.loadtxt(\"../parr/output/xcLg-0.txt\")\n",
    "yc = np.loadtxt(\"../parr/output/ycLg-0.txt\")\n",
    "xcLg0 = np.loadtxt(\"../parr/output/xcLg-0.txt\")\n",
    "ycLg0 = np.loadtxt(\"../parr/output/ycLg-0.txt\")\n",
    "rho = np.loadtxt(\"../parr/output/UL_v-0.txt\")\n",
    "\n",
    "ax.pcolor(xcLg0[3:-3,3:-3], ycLg0[3:-3, 3:-3], rho[3:-3,3:-3])\n",
    "ax.pcolor(xcLg0[3:-3,0:3], ycLg0[3:-3, 0:3], rho[3:-3,0:3])\n",
    "\n",
    "plt.show()"
   ]
  },
  {
   "cell_type": "code",
   "execution_count": null,
   "metadata": {},
   "outputs": [],
   "source": [
    "\n",
    "\n",
    "\n",
    "nixl = np.loadtxt(\"../parr/output/nixL-0.txt\")\n",
    "niyl = np.loadtxt(\"../parr/output/niyL-0.txt\")\n",
    "njxl = np.loadtxt(\"../parr/output/njxL-0.txt\")\n",
    "njyl = np.loadtxt(\"../parr/output/njyL-0.txt\")\n",
    "\n",
    "nix = np.loadtxt(\"../parr/output/nix-0.txt\")\n",
    "niy = np.loadtxt(\"../parr/output/niy-0.txt\")\n",
    "njx = np.loadtxt(\"../parr/output/njx-0.txt\")\n",
    "njy = np.loadtxt(\"../parr/output/njy-0.txt\")\n",
    "\n",
    "nixl2 = np.loadtxt(\"../parr/output/nixL-2.txt\")\n",
    "niyl2 = np.loadtxt(\"../parr/output/niyL-2.txt\")\n",
    "njxl2 = np.loadtxt(\"../parr/output/njxL-2.txt\")\n",
    "njyl2 = np.loadtxt(\"../parr/output/njyL-2.txt\")\n",
    "\n",
    "\n",
    "print(\"\\nrank 0 of 4\\n\")\n",
    "print(np.max(np.abs(nixl-nix[:150,:181])))\n",
    "print(np.max(np.abs(niyl-niy[:150,:181])))\n",
    "print(np.max(np.abs(njxl-njx[:151,:180])))\n",
    "print(np.max(np.abs(njyl-njy[:151,:180])))\n",
    "\n",
    "print(\"\\nrank 2 of 4\\n\")\n",
    "\n",
    "print(np.max(np.abs(nixl2-nix[150:300,0:181])))\n",
    "print(np.max(np.abs(niyl2-niy[150:300,0:181])))\n",
    "print(np.max(np.abs(njxl2-njx[150:301,0:180])))\n",
    "print(np.max(np.abs(njyl2-njy[150:301,0:180])))\n",
    "\n",
    "\n",
    "#print(np.max(np.abs(nixl1-nix[0:150,180:361])))\n",
    "#print(np.max(np.abs(nixl2-nix[150:300,0:181])))\n",
    "\n",
    "print(np.shape(xc))\n",
    "print(np.shape(xcLg0))\n",
    "print(np.max(np.abs(xcLg0[3:-3,3:-3]-xc[0:150,0:180])))"
   ]
  },
  {
   "cell_type": "code",
   "execution_count": null,
   "metadata": {},
   "outputs": [],
   "source": [
    "fig, ax=plt.subplots(figsize=(10,5))\n",
    "\n",
    "\n",
    "rho = np.loadtxt(\"../serialE/output/U_rho-1000.txt\")\n",
    "\n",
    "ax.pcolor(xc, yc, (rho[3:-3,3:-3]))\n",
    "\n",
    "ax.set_xlabel(\"x\")\n",
    "ax.set_ylabel(\"y\")\n",
    "plt.tight_layout()\n",
    "plt.savefig(\"360x300serial.png\")\n",
    "\n",
    "plt.show()"
   ]
  },
  {
   "cell_type": "code",
   "execution_count": 54,
   "metadata": {},
   "outputs": [
    {
     "name": "stdout",
     "output_type": "stream",
     "text": [
      "755.795626121\n",
      "40.6251861313\n",
      "235.642842858\n",
      "178.781630182\n",
      "1091.2543462\n",
      "1224.07339726\n",
      "862.226401188\n",
      "[ 0.0424704   0.0193536   0.037632    0.10026664  0.15624     0.1747872\n",
      "  0.10023972]\n"
     ]
    },
    {
     "data": {
      "image/png": "[encoded data removed]",
      "text/plain": [
       "<matplotlib.figure.Figure at 0x7f192c08aba8>"
      ]
     },
     "metadata": {},
     "output_type": "display_data"
    }
   ],
   "source": [
    "#kernel names\n",
    "fp=np.zeros(7)\n",
    "dr = np.zeros(7)\n",
    "dw = np.zeros(7)\n",
    "\n",
    "at = np.zeros(7)\n",
    "st = 32 # bytes per transaction\n",
    "#computeSourceTerm\n",
    "fp[0] = 42470400\n",
    "dr[0] = 1061980\n",
    "dw[0] = 736195\n",
    "#computeRes\n",
    "fp[1] = 19353600\n",
    "dr[1] = 13096149\n",
    "dw[1] = 2148463\n",
    "#rungeKutta\n",
    "fp[2] = 37632000\n",
    "dr[2] = 3581284\n",
    "dw[2] = 1529094\n",
    "#muscl_lR\n",
    "fp[3] = 100266638\n",
    "dr[3] = 13405700\n",
    "dw[3] = 4540956\n",
    "#compute2dF\n",
    "fp[4] = 156240000\n",
    "dr[4] = 2957948\n",
    "dw[4] = 1623642\n",
    "#compute2dG\n",
    "fp[5] = 174787200\n",
    "dr[5] = 2776962\n",
    "dw[5] = 1792364\n",
    "#muscl_BT\n",
    "fp[6] = 100239720\n",
    "dr[6] = 2427089\n",
    "dw[6] = 1293130\n",
    "\n",
    "# comput arithmetic intensity\n",
    "\n",
    "for i in np.arange(7):\n",
    "    at[i] = fp[i]/(dr[i]+dw[i])*32\n",
    "    print(at[i])\n",
    "\n",
    "    \n",
    "\n",
    "\n",
    "gp = fp/1.0e9; #gflops\n",
    "fig, ax = plt.subplots(figsize=(10.0,5.0))\n",
    "ax.loglog(at, gp, '*r')\n",
    "\n",
    "rf = np.linspace(0.1,np.max(at)*1.5,1000)\n",
    "\n",
    "\n",
    "mxgflop = rf*(549.0)+0 #549 gb/s\n",
    "\n",
    "mxgflop = np.clip(mxgflop,0, 4700)\n",
    "\n",
    "ax.loglog(rf, mxgflop,'b')\n",
    "\n",
    "ax.set_xlabel(\"Arithmetic Intensity (FLOPS/Byte)\")\n",
    "ax.set_ylabel(\"GFLOPS/sec\")\n",
    "\n",
    "\n",
    "n = np.arange(7)+1\n",
    "\n",
    "for i, txt in enumerate(n):\n",
    "    ax.annotate(txt, (at[i], gp[i]))\n",
    "\n",
    "print(gp)\n",
    "\n",
    "plt.tight_layout\n",
    "plt.savefig(\"rooflinemodeling.png\", dpi=300)\n",
    "\n",
    "\n",
    "plt.show()"
   ]
  },
  {
   "cell_type": "code",
   "execution_count": 21,
   "metadata": {},
   "outputs": [
    {
     "name": "stdout",
     "output_type": "stream",
     "text": [
      "862.226401187672\n"
     ]
    }
   ],
   "source": []
  },
  {
   "cell_type": "code",
   "execution_count": null,
   "metadata": {
    "collapsed": true
   },
   "outputs": [],
   "source": []
  }
 ],
 "metadata": {
  "kernelspec": {
   "display_name": "Python 3",
   "language": "python",
   "name": "python3"
  },
  "language_info": {
   "codemirror_mode": {
    "name": "ipython",
    "version": 3
   },
   "file_extension": ".py",
   "mimetype": "text/x-python",
   "name": "python",
   "nbconvert_exporter": "python",
   "pygments_lexer": "ipython3",
   "version": "3.6.3"
  }
 },
 "nbformat": 4,
 "nbformat_minor": 2
}
